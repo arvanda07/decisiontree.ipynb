{
  "nbformat": 4,
  "nbformat_minor": 0,
  "metadata": {
    "colab": {
      "name": "decisiontree.ipynb",
      "provenance": []
    },
    "kernelspec": {
      "name": "python3",
      "display_name": "Python 3"
    },
    "language_info": {
      "name": "python"
    }
  },
  "cells": [
    {
      "cell_type": "code",
      "metadata": {
        "id": "lCT0apVT3yO9"
      },
      "source": [
        "import numpy as np\n",
        "import pandas as pd\n",
        "from sklearn import tree"
      ],
      "execution_count": 266,
      "outputs": []
    },
    {
      "cell_type": "code",
      "metadata": {
        "id": "A6dow_1q4Q55"
      },
      "source": [
        "DatasetIris = pd.read_csv('klasifikasi_iris_modif.csv',\n",
        "                             delimiter=';', header=0)"
      ],
      "execution_count": 267,
      "outputs": []
    },
    {
      "cell_type": "code",
      "metadata": {
        "colab": {
          "base_uri": "https://localhost:8080/",
          "height": 197
        },
        "id": "XHLbWy-S9KTF",
        "outputId": "15b32071-3c04-4f54-8e7b-04364a06eaa4"
      },
      "source": [
        "DatasetIris.head()"
      ],
      "execution_count": 268,
      "outputs": [
        {
          "output_type": "execute_result",
          "data": {
            "text/html": [
              "<div>\n",
              "<style scoped>\n",
              "    .dataframe tbody tr th:only-of-type {\n",
              "        vertical-align: middle;\n",
              "    }\n",
              "\n",
              "    .dataframe tbody tr th {\n",
              "        vertical-align: top;\n",
              "    }\n",
              "\n",
              "    .dataframe thead th {\n",
              "        text-align: right;\n",
              "    }\n",
              "</style>\n",
              "<table border=\"1\" class=\"dataframe\">\n",
              "  <thead>\n",
              "    <tr style=\"text-align: right;\">\n",
              "      <th></th>\n",
              "      <th>Id</th>\n",
              "      <th>SepalLengthCm</th>\n",
              "      <th>SepalWidthCm</th>\n",
              "      <th>PetalLengthCm</th>\n",
              "      <th>PetalWidthCm</th>\n",
              "      <th>Jenis</th>\n",
              "    </tr>\n",
              "  </thead>\n",
              "  <tbody>\n",
              "    <tr>\n",
              "      <th>0</th>\n",
              "      <td>99</td>\n",
              "      <td>10.03</td>\n",
              "      <td>3.04</td>\n",
              "      <td>5.04</td>\n",
              "      <td>2.03</td>\n",
              "      <td>Iris-versicolor</td>\n",
              "    </tr>\n",
              "    <tr>\n",
              "      <th>1</th>\n",
              "      <td>98</td>\n",
              "      <td>26.15</td>\n",
              "      <td>3.00</td>\n",
              "      <td>5.02</td>\n",
              "      <td>2.00</td>\n",
              "      <td>Iris-versicolor</td>\n",
              "    </tr>\n",
              "    <tr>\n",
              "      <th>2</th>\n",
              "      <td>97</td>\n",
              "      <td>66.23</td>\n",
              "      <td>2.05</td>\n",
              "      <td>5.00</td>\n",
              "      <td>1.09</td>\n",
              "      <td>Iris-versicolor</td>\n",
              "    </tr>\n",
              "    <tr>\n",
              "      <th>3</th>\n",
              "      <td>96</td>\n",
              "      <td>43.74</td>\n",
              "      <td>2.08</td>\n",
              "      <td>5.06</td>\n",
              "      <td>2.02</td>\n",
              "      <td>Iris-versicolor</td>\n",
              "    </tr>\n",
              "    <tr>\n",
              "      <th>4</th>\n",
              "      <td>95</td>\n",
              "      <td>76.27</td>\n",
              "      <td>3.03</td>\n",
              "      <td>5.07</td>\n",
              "      <td>2.05</td>\n",
              "      <td>Iris-versicolor</td>\n",
              "    </tr>\n",
              "  </tbody>\n",
              "</table>\n",
              "</div>"
            ],
            "text/plain": [
              "   Id  SepalLengthCm  ...  PetalWidthCm            Jenis\n",
              "0  99          10.03  ...          2.03  Iris-versicolor\n",
              "1  98          26.15  ...          2.00  Iris-versicolor\n",
              "2  97          66.23  ...          1.09  Iris-versicolor\n",
              "3  96          43.74  ...          2.02  Iris-versicolor\n",
              "4  95          76.27  ...          2.05  Iris-versicolor\n",
              "\n",
              "[5 rows x 6 columns]"
            ]
          },
          "metadata": {
            "tags": []
          },
          "execution_count": 268
        }
      ]
    },
    {
      "cell_type": "code",
      "metadata": {
        "id": "wFOY8T-n9SMK"
      },
      "source": [
        "DatasetIris[\"Jenis\"] = pd.factorize(DatasetIris.Jenis)[0]"
      ],
      "execution_count": 269,
      "outputs": []
    },
    {
      "cell_type": "code",
      "metadata": {
        "colab": {
          "base_uri": "https://localhost:8080/",
          "height": 197
        },
        "id": "mNccSMic9Xvp",
        "outputId": "a0631b83-e043-469e-dd4c-eb7ee7f7c377"
      },
      "source": [
        "DatasetIris.head()"
      ],
      "execution_count": 270,
      "outputs": [
        {
          "output_type": "execute_result",
          "data": {
            "text/html": [
              "<div>\n",
              "<style scoped>\n",
              "    .dataframe tbody tr th:only-of-type {\n",
              "        vertical-align: middle;\n",
              "    }\n",
              "\n",
              "    .dataframe tbody tr th {\n",
              "        vertical-align: top;\n",
              "    }\n",
              "\n",
              "    .dataframe thead th {\n",
              "        text-align: right;\n",
              "    }\n",
              "</style>\n",
              "<table border=\"1\" class=\"dataframe\">\n",
              "  <thead>\n",
              "    <tr style=\"text-align: right;\">\n",
              "      <th></th>\n",
              "      <th>Id</th>\n",
              "      <th>SepalLengthCm</th>\n",
              "      <th>SepalWidthCm</th>\n",
              "      <th>PetalLengthCm</th>\n",
              "      <th>PetalWidthCm</th>\n",
              "      <th>Jenis</th>\n",
              "    </tr>\n",
              "  </thead>\n",
              "  <tbody>\n",
              "    <tr>\n",
              "      <th>0</th>\n",
              "      <td>99</td>\n",
              "      <td>10.03</td>\n",
              "      <td>3.04</td>\n",
              "      <td>5.04</td>\n",
              "      <td>2.03</td>\n",
              "      <td>0</td>\n",
              "    </tr>\n",
              "    <tr>\n",
              "      <th>1</th>\n",
              "      <td>98</td>\n",
              "      <td>26.15</td>\n",
              "      <td>3.00</td>\n",
              "      <td>5.02</td>\n",
              "      <td>2.00</td>\n",
              "      <td>0</td>\n",
              "    </tr>\n",
              "    <tr>\n",
              "      <th>2</th>\n",
              "      <td>97</td>\n",
              "      <td>66.23</td>\n",
              "      <td>2.05</td>\n",
              "      <td>5.00</td>\n",
              "      <td>1.09</td>\n",
              "      <td>0</td>\n",
              "    </tr>\n",
              "    <tr>\n",
              "      <th>3</th>\n",
              "      <td>96</td>\n",
              "      <td>43.74</td>\n",
              "      <td>2.08</td>\n",
              "      <td>5.06</td>\n",
              "      <td>2.02</td>\n",
              "      <td>0</td>\n",
              "    </tr>\n",
              "    <tr>\n",
              "      <th>4</th>\n",
              "      <td>95</td>\n",
              "      <td>76.27</td>\n",
              "      <td>3.03</td>\n",
              "      <td>5.07</td>\n",
              "      <td>2.05</td>\n",
              "      <td>0</td>\n",
              "    </tr>\n",
              "  </tbody>\n",
              "</table>\n",
              "</div>"
            ],
            "text/plain": [
              "   Id  SepalLengthCm  SepalWidthCm  PetalLengthCm  PetalWidthCm  Jenis\n",
              "0  99          10.03          3.04           5.04          2.03      0\n",
              "1  98          26.15          3.00           5.02          2.00      0\n",
              "2  97          66.23          2.05           5.00          1.09      0\n",
              "3  96          43.74          2.08           5.06          2.02      0\n",
              "4  95          76.27          3.03           5.07          2.05      0"
            ]
          },
          "metadata": {
            "tags": []
          },
          "execution_count": 270
        }
      ]
    },
    {
      "cell_type": "code",
      "metadata": {
        "colab": {
          "base_uri": "https://localhost:8080/"
        },
        "id": "Z_xzY8gP9dZ3",
        "outputId": "14686c2d-52e3-4c6d-c96d-34dd9fbda673"
      },
      "source": [
        "print(DatasetIris)"
      ],
      "execution_count": 271,
      "outputs": [
        {
          "output_type": "stream",
          "text": [
            "     Id  SepalLengthCm  SepalWidthCm  PetalLengthCm  PetalWidthCm  Jenis\n",
            "0    99          10.03          3.04           5.04          2.03      0\n",
            "1    98          26.15          3.00           5.02          2.00      0\n",
            "2    97          66.23          2.05           5.00          1.09      0\n",
            "3    96          43.74          2.08           5.06          2.02      0\n",
            "4    95          76.27          3.03           5.07          2.05      0\n",
            "..  ...            ...           ...            ...           ...    ...\n",
            "95   12           5.09          3.00           4.02          1.05      0\n",
            "96   11          36.52          2.08           4.07          1.02      0\n",
            "97  100           5.09          3.00           5.01          1.08      0\n",
            "98   10           5.02          2.07           3.09          1.04      0\n",
            "99    1          27.00         53.02           4.07          1.04      0\n",
            "\n",
            "[100 rows x 6 columns]\n"
          ],
          "name": "stdout"
        }
      ]
    },
    {
      "cell_type": "code",
      "metadata": {
        "id": "FSuQyNoX9tya"
      },
      "source": [
        "DatasetIris = DatasetIris.drop(labels=\"Id\", axis=1)"
      ],
      "execution_count": 272,
      "outputs": []
    },
    {
      "cell_type": "code",
      "metadata": {
        "colab": {
          "base_uri": "https://localhost:8080/"
        },
        "id": "bMnPikc7AZMz",
        "outputId": "df540826-ad06-4673-91f6-c43bbb03cd17"
      },
      "source": [
        "print(DatasetIris)"
      ],
      "execution_count": 273,
      "outputs": [
        {
          "output_type": "stream",
          "text": [
            "    SepalLengthCm  SepalWidthCm  PetalLengthCm  PetalWidthCm  Jenis\n",
            "0           10.03          3.04           5.04          2.03      0\n",
            "1           26.15          3.00           5.02          2.00      0\n",
            "2           66.23          2.05           5.00          1.09      0\n",
            "3           43.74          2.08           5.06          2.02      0\n",
            "4           76.27          3.03           5.07          2.05      0\n",
            "..            ...           ...            ...           ...    ...\n",
            "95           5.09          3.00           4.02          1.05      0\n",
            "96          36.52          2.08           4.07          1.02      0\n",
            "97           5.09          3.00           5.01          1.08      0\n",
            "98           5.02          2.07           3.09          1.04      0\n",
            "99          27.00         53.02           4.07          1.04      0\n",
            "\n",
            "[100 rows x 5 columns]\n"
          ],
          "name": "stdout"
        }
      ]
    },
    {
      "cell_type": "code",
      "metadata": {
        "id": "LieqYQ6DAf-V"
      },
      "source": [
        "DatasetIris = DatasetIris.to_numpy()"
      ],
      "execution_count": 274,
      "outputs": []
    },
    {
      "cell_type": "code",
      "metadata": {
        "colab": {
          "base_uri": "https://localhost:8080/"
        },
        "id": "BoRgEa0PAmYm",
        "outputId": "02b9c49f-b1d7-4d21-f0ca-e68aa8a3dd16"
      },
      "source": [
        "print(DatasetIris)"
      ],
      "execution_count": 275,
      "outputs": [
        {
          "output_type": "stream",
          "text": [
            "[[10.03  3.04  5.04  2.03  0.  ]\n",
            " [26.15  3.    5.02  2.    0.  ]\n",
            " [66.23  2.05  5.    1.09  0.  ]\n",
            " [43.74  2.08  5.06  2.02  0.  ]\n",
            " [76.27  3.03  5.07  2.05  0.  ]\n",
            " [46.58  3.02  5.09  2.03  1.  ]\n",
            " [35.88  2.07  5.01  1.09  0.  ]\n",
            " [76.59  3.01  5.01  2.03  0.  ]\n",
            " [56.89  3.01  5.06  2.04  1.  ]\n",
            " [45.54  3.01  5.04  2.01  1.  ]\n",
            " [34.39  2.09  4.06  1.03  0.  ]\n",
            " [63.   33.    4.08  1.08  1.  ]\n",
            " [57.76  3.01  5.05  1.08  1.  ]\n",
            " [35.62  3.04  5.06  2.04  1.  ]\n",
            " [45.87  3.    6.01  2.03  1.  ]\n",
            " [35.96  2.06  5.06  1.04  0.  ]\n",
            " [76.27  2.08  5.01  1.05  1.  ]\n",
            " [43.74  2.08  5.06  2.02  1.  ]\n",
            " [53.64  3.08  6.04  2.    1.  ]\n",
            " [52.54  2.08  6.01  1.09  1.  ]\n",
            " [42.54  3.    5.08  1.06  1.  ]\n",
            " [25.69  2.04  3.03  1.    0.  ]\n",
            " [52.13  2.08  5.06  2.01  1.  ]\n",
            " [42.65  3.    4.09  1.08  1.  ]\n",
            " [53.63  2.08  4.08  1.08  1.  ]\n",
            " [42.67  3.02  6.    1.08  1.  ]\n",
            " [53.17  3.03  5.07  2.01  1.  ]\n",
            " [ 6.03  2.07  4.09  1.08  1.  ]\n",
            " [76.27  2.08  6.07  2.    1.  ]\n",
            " [ 5.06  2.08  4.09  2.    1.  ]\n",
            " [ 6.09  3.02  5.07  2.03  1.  ]\n",
            " [ 6.    2.02  5.    1.05  1.  ]\n",
            " [ 6.03  3.03  4.07  1.06  0.  ]\n",
            " [ 7.07  2.06  6.09  2.03  1.  ]\n",
            " [ 7.07  3.08  6.07  2.02  1.  ]\n",
            " [ 6.05  3.    5.05  1.08  1.  ]\n",
            " [ 6.04  3.02  5.03  2.03  1.  ]\n",
            " [ 5.08  2.08  5.01  2.04  1.  ]\n",
            " [ 5.07  2.05  5.    2.    0.  ]\n",
            " [ 6.08  3.    5.05  2.01  1.  ]\n",
            " [ 6.04  2.07  5.03  1.09  1.  ]\n",
            " [ 6.05  3.02  5.01  2.    0.  ]\n",
            " [ 7.02  3.06  6.01  2.05  1.  ]\n",
            " [ 5.07  2.08  4.05  1.03  0.  ]\n",
            " [ 6.07  2.05  5.08  1.08  1.  ]\n",
            " [ 7.03  2.09  6.03  1.08  1.  ]\n",
            " [ 4.09  2.05  4.05  1.07  1.  ]\n",
            " [ 7.06  3.    6.06  2.01  1.  ]\n",
            " [ 6.05  3.    5.08  2.02  1.  ]\n",
            " [46.33  2.09  5.06  1.08  1.  ]\n",
            " [47.71  3.    5.09  2.01  1.  ]\n",
            " [ 5.08  2.07  5.01  1.09  1.  ]\n",
            " [ 6.03  3.03  6.    2.05  1.  ]\n",
            " [ 5.07  2.08  4.01  1.03  0.  ]\n",
            " [ 6.35  5.08  4.06  1.05  0.  ]\n",
            " [ 9.04  2.05  3.    1.01  0.  ]\n",
            " [76.27  2.09  4.03  1.03  1.  ]\n",
            " [ 5.07  2.09  4.02  1.03  0.  ]\n",
            " [ 2.04  3.    4.02  1.02  0.  ]\n",
            " [ 3.03  2.07  4.02  1.03  0.  ]\n",
            " [ 5.   25.64  3.03  1.    0.  ]\n",
            " [ 5.08  2.06  4.    1.02  0.  ]\n",
            " [ 6.01  3.    4.06  1.04  0.  ]\n",
            " [ 5.05  2.06  4.04  1.02  0.  ]\n",
            " [ 5.05  2.05  4.    1.03  0.  ]\n",
            " [ 5.05  2.03  4.    1.03  1.  ]\n",
            " [ 5.06  3.    4.01  1.03  0.  ]\n",
            " [76.53  2.03  4.04  1.03  1.  ]\n",
            " [89.67  3.01  4.07  1.05  1.  ]\n",
            " [ 6.    3.04  4.05  1.06  1.  ]\n",
            " [45.24  3.    4.05  1.05  1.  ]\n",
            " [ 6.   90.07  5.01  1.06  0.  ]\n",
            " [ 5.08  2.07  3.09  1.02  0.  ]\n",
            " [ 5.05  2.04  3.07  1.    0.  ]\n",
            " [63.05 43.04  3.08  1.01  0.  ]\n",
            " [ 5.07  2.06  3.05  1.    0.  ]\n",
            " [46.46  3.01  4.09  1.05  0.  ]\n",
            " [ 6.    2.09  4.05  1.05  1.  ]\n",
            " [16.87  3.    5.    1.07  0.  ]\n",
            " [86.48  2.08  4.08  1.04  0.  ]\n",
            " [36.56  3.    4.04  1.04  0.  ]\n",
            " [ 6.04  2.09  4.03  1.03  0.  ]\n",
            " [36.52  2.08  4.07  1.02  0.  ]\n",
            " [86.78 53.05  4.09  1.05  1.  ]\n",
            " [76.27  2.08  4.    1.03  0.  ]\n",
            " [ 5.34  3.02  4.08  1.08  0.  ]\n",
            " [ 5.06  2.05  3.09  1.01  1.  ]\n",
            " [ 6.04  3.02  4.05  1.05  0.  ]\n",
            " [36.46  2.02  4.05  1.05  0.  ]\n",
            " [87.45  2.07  4.01  1.    0.  ]\n",
            " [ 5.06  3.    4.05  1.05  0.  ]\n",
            " [43.46  3.01  4.04  1.04  1.  ]\n",
            " [76.27  2.09  3.06  1.03  0.  ]\n",
            " [ 6.01  2.09  4.07  1.04  0.  ]\n",
            " [76.59  3.01  5.01  2.03  0.  ]\n",
            " [ 5.09  3.    4.02  1.05  0.  ]\n",
            " [36.52  2.08  4.07  1.02  0.  ]\n",
            " [ 5.09  3.    5.01  1.08  0.  ]\n",
            " [ 5.02  2.07  3.09  1.04  0.  ]\n",
            " [27.   53.02  4.07  1.04  0.  ]]\n"
          ],
          "name": "stdout"
        }
      ]
    },
    {
      "cell_type": "code",
      "metadata": {
        "id": "NcbegPEl5IbN"
      },
      "source": [
        "#membagi dataset, 40 baris data untuk training dan 20 baris data untuk testing\n",
        "dataTraining = np.concatenate((DatasetIris[0:20,:],\n",
        "                               DatasetIris[30:90,:]), axis=0)\n",
        "dataTesting = np.concatenate((DatasetIris[10:90,:],\n",
        "                               DatasetIris[100:1,:]), axis=0)"
      ],
      "execution_count": 276,
      "outputs": []
    },
    {
      "cell_type": "code",
      "metadata": {
        "id": "QVM_Gqq1DPTb"
      },
      "source": [
        "inputTraining = dataTraining[:,0:4]\n",
        "inputTesting = dataTesting[:,0:4]\n",
        "labelTraining = dataTraining[:,4]\n",
        "labelTesting = dataTesting[:, 4]"
      ],
      "execution_count": 277,
      "outputs": []
    },
    {
      "cell_type": "code",
      "metadata": {
        "colab": {
          "base_uri": "https://localhost:8080/"
        },
        "id": "EjExalnXAwel",
        "outputId": "765d78e4-d41b-453d-f32c-19648af13f49"
      },
      "source": [
        "print(dataTesting)\n",
        "len(dataTesting)"
      ],
      "execution_count": 278,
      "outputs": [
        {
          "output_type": "stream",
          "text": [
            "[[34.39  2.09  4.06  1.03  0.  ]\n",
            " [63.   33.    4.08  1.08  1.  ]\n",
            " [57.76  3.01  5.05  1.08  1.  ]\n",
            " [35.62  3.04  5.06  2.04  1.  ]\n",
            " [45.87  3.    6.01  2.03  1.  ]\n",
            " [35.96  2.06  5.06  1.04  0.  ]\n",
            " [76.27  2.08  5.01  1.05  1.  ]\n",
            " [43.74  2.08  5.06  2.02  1.  ]\n",
            " [53.64  3.08  6.04  2.    1.  ]\n",
            " [52.54  2.08  6.01  1.09  1.  ]\n",
            " [42.54  3.    5.08  1.06  1.  ]\n",
            " [25.69  2.04  3.03  1.    0.  ]\n",
            " [52.13  2.08  5.06  2.01  1.  ]\n",
            " [42.65  3.    4.09  1.08  1.  ]\n",
            " [53.63  2.08  4.08  1.08  1.  ]\n",
            " [42.67  3.02  6.    1.08  1.  ]\n",
            " [53.17  3.03  5.07  2.01  1.  ]\n",
            " [ 6.03  2.07  4.09  1.08  1.  ]\n",
            " [76.27  2.08  6.07  2.    1.  ]\n",
            " [ 5.06  2.08  4.09  2.    1.  ]\n",
            " [ 6.09  3.02  5.07  2.03  1.  ]\n",
            " [ 6.    2.02  5.    1.05  1.  ]\n",
            " [ 6.03  3.03  4.07  1.06  0.  ]\n",
            " [ 7.07  2.06  6.09  2.03  1.  ]\n",
            " [ 7.07  3.08  6.07  2.02  1.  ]\n",
            " [ 6.05  3.    5.05  1.08  1.  ]\n",
            " [ 6.04  3.02  5.03  2.03  1.  ]\n",
            " [ 5.08  2.08  5.01  2.04  1.  ]\n",
            " [ 5.07  2.05  5.    2.    0.  ]\n",
            " [ 6.08  3.    5.05  2.01  1.  ]\n",
            " [ 6.04  2.07  5.03  1.09  1.  ]\n",
            " [ 6.05  3.02  5.01  2.    0.  ]\n",
            " [ 7.02  3.06  6.01  2.05  1.  ]\n",
            " [ 5.07  2.08  4.05  1.03  0.  ]\n",
            " [ 6.07  2.05  5.08  1.08  1.  ]\n",
            " [ 7.03  2.09  6.03  1.08  1.  ]\n",
            " [ 4.09  2.05  4.05  1.07  1.  ]\n",
            " [ 7.06  3.    6.06  2.01  1.  ]\n",
            " [ 6.05  3.    5.08  2.02  1.  ]\n",
            " [46.33  2.09  5.06  1.08  1.  ]\n",
            " [47.71  3.    5.09  2.01  1.  ]\n",
            " [ 5.08  2.07  5.01  1.09  1.  ]\n",
            " [ 6.03  3.03  6.    2.05  1.  ]\n",
            " [ 5.07  2.08  4.01  1.03  0.  ]\n",
            " [ 6.35  5.08  4.06  1.05  0.  ]\n",
            " [ 9.04  2.05  3.    1.01  0.  ]\n",
            " [76.27  2.09  4.03  1.03  1.  ]\n",
            " [ 5.07  2.09  4.02  1.03  0.  ]\n",
            " [ 2.04  3.    4.02  1.02  0.  ]\n",
            " [ 3.03  2.07  4.02  1.03  0.  ]\n",
            " [ 5.   25.64  3.03  1.    0.  ]\n",
            " [ 5.08  2.06  4.    1.02  0.  ]\n",
            " [ 6.01  3.    4.06  1.04  0.  ]\n",
            " [ 5.05  2.06  4.04  1.02  0.  ]\n",
            " [ 5.05  2.05  4.    1.03  0.  ]\n",
            " [ 5.05  2.03  4.    1.03  1.  ]\n",
            " [ 5.06  3.    4.01  1.03  0.  ]\n",
            " [76.53  2.03  4.04  1.03  1.  ]\n",
            " [89.67  3.01  4.07  1.05  1.  ]\n",
            " [ 6.    3.04  4.05  1.06  1.  ]\n",
            " [45.24  3.    4.05  1.05  1.  ]\n",
            " [ 6.   90.07  5.01  1.06  0.  ]\n",
            " [ 5.08  2.07  3.09  1.02  0.  ]\n",
            " [ 5.05  2.04  3.07  1.    0.  ]\n",
            " [63.05 43.04  3.08  1.01  0.  ]\n",
            " [ 5.07  2.06  3.05  1.    0.  ]\n",
            " [46.46  3.01  4.09  1.05  0.  ]\n",
            " [ 6.    2.09  4.05  1.05  1.  ]\n",
            " [16.87  3.    5.    1.07  0.  ]\n",
            " [86.48  2.08  4.08  1.04  0.  ]\n",
            " [36.56  3.    4.04  1.04  0.  ]\n",
            " [ 6.04  2.09  4.03  1.03  0.  ]\n",
            " [36.52  2.08  4.07  1.02  0.  ]\n",
            " [86.78 53.05  4.09  1.05  1.  ]\n",
            " [76.27  2.08  4.    1.03  0.  ]\n",
            " [ 5.34  3.02  4.08  1.08  0.  ]\n",
            " [ 5.06  2.05  3.09  1.01  1.  ]\n",
            " [ 6.04  3.02  4.05  1.05  0.  ]\n",
            " [36.46  2.02  4.05  1.05  0.  ]\n",
            " [87.45  2.07  4.01  1.    0.  ]]\n"
          ],
          "name": "stdout"
        },
        {
          "output_type": "execute_result",
          "data": {
            "text/plain": [
              "80"
            ]
          },
          "metadata": {
            "tags": []
          },
          "execution_count": 278
        }
      ]
    },
    {
      "cell_type": "code",
      "metadata": {
        "id": "lJHQENjW6ESe"
      },
      "source": [
        "model = tree.DecisionTreeClassifier()"
      ],
      "execution_count": 279,
      "outputs": []
    },
    {
      "cell_type": "code",
      "metadata": {
        "id": "aCqAEm8DBQFO"
      },
      "source": [
        "model = model.fit(inputTraining, labelTraining)"
      ],
      "execution_count": 280,
      "outputs": []
    },
    {
      "cell_type": "code",
      "metadata": {
        "colab": {
          "base_uri": "https://localhost:8080/"
        },
        "id": "wLNLa65fBSjj",
        "outputId": "165017d4-49d1-4b77-a347-85b2a4590649"
      },
      "source": [
        "hasilPrediksi = model.predict(inputTesting)\n",
        "print(\"label sebenarnya \", labelTesting)\n",
        "print(\"hasil prediksi: \", hasilPrediksi)"
      ],
      "execution_count": 281,
      "outputs": [
        {
          "output_type": "stream",
          "text": [
            "label sebenarnya  [0. 1. 1. 1. 1. 0. 1. 1. 1. 1. 1. 0. 1. 1. 1. 1. 1. 1. 1. 1. 1. 1. 0. 1.\n",
            " 1. 1. 1. 1. 0. 1. 1. 0. 1. 0. 1. 1. 1. 1. 1. 1. 1. 1. 1. 0. 0. 0. 1. 0.\n",
            " 0. 0. 0. 0. 0. 0. 0. 1. 0. 1. 1. 1. 1. 0. 0. 0. 0. 0. 0. 1. 0. 0. 0. 0.\n",
            " 0. 1. 0. 0. 1. 0. 0. 0.]\n",
            "hasil prediksi:  [0. 1. 1. 1. 1. 0. 1. 0. 1. 1. 0. 0. 1. 0. 0. 1. 1. 0. 0. 0. 1. 1. 0. 1.\n",
            " 1. 1. 1. 1. 0. 1. 1. 0. 1. 0. 1. 1. 1. 1. 1. 1. 1. 1. 1. 0. 0. 0. 1. 0.\n",
            " 0. 0. 0. 0. 0. 0. 0. 1. 0. 1. 1. 1. 1. 0. 0. 0. 0. 0. 0. 1. 0. 0. 0. 0.\n",
            " 0. 1. 0. 0. 1. 0. 0. 0.]\n"
          ],
          "name": "stdout"
        }
      ]
    },
    {
      "cell_type": "code",
      "metadata": {
        "colab": {
          "base_uri": "https://localhost:8080/"
        },
        "id": "JsEIuN6tBcGx",
        "outputId": "fd978297-df91-4568-a144-00523f56808f"
      },
      "source": [
        "prediksiBenar = (hasilPrediksi == labelTesting).sum()\n",
        "prediksiSalah = (hasilPrediksi != labelTesting).sum()\n",
        "print(\"prediksi benar: \", prediksiBenar, \" data\")\n",
        "print(\"prediksi salah: \", prediksiSalah, \" data\")\n",
        "print(\"akurasi: \", prediksiBenar/(prediksiBenar+prediksiSalah) * 100, \"%\")"
      ],
      "execution_count": 282,
      "outputs": [
        {
          "output_type": "stream",
          "text": [
            "prediksi benar:  73  data\n",
            "prediksi salah:  7  data\n",
            "akurasi:  91.25 %\n"
          ],
          "name": "stdout"
        }
      ]
    }
  ]
}